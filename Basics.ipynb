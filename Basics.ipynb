{
 "cells": [
  {
   "cell_type": "markdown",
   "id": "db8d76a9",
   "metadata": {},
   "source": [
    "# Python Introduction"
   ]
  },
  {
   "cell_type": "markdown",
   "id": "00c71ec9",
   "metadata": {},
   "source": [
    "Python is a general purpose programming language that is often used in scientific computing. \n",
    "\n",
    "This notebook will introduce basic Python concepts and syntax.\n",
    "\n",
    "To run each cell, put your cursor in it and press `Shift+Enter`.\n",
    "\n",
    "We will start with some basic math examples. \n",
    "\n",
    "Comments can be added to a cell using the `#` symbol.\n",
    "\n",
    "Commenting your code is always good practice."
   ]
  },
  {
   "cell_type": "markdown",
   "id": "034ec471",
   "metadata": {},
   "source": [
    "## Basic Math"
   ]
  },
  {
   "cell_type": "code",
   "execution_count": 1,
   "id": "a121e105",
   "metadata": {},
   "outputs": [
    {
     "data": {
      "text/plain": [
       "12"
      ]
     },
     "execution_count": 1,
     "metadata": {},
     "output_type": "execute_result"
    }
   ],
   "source": [
    "# Basic addition example\n",
    "6+6"
   ]
  },
  {
   "cell_type": "code",
   "execution_count": 2,
   "id": "15e23139",
   "metadata": {},
   "outputs": [
    {
     "data": {
      "text/plain": [
       "0"
      ]
     },
     "execution_count": 2,
     "metadata": {},
     "output_type": "execute_result"
    }
   ],
   "source": [
    "# Basic subtraction example\n",
    "6-6"
   ]
  },
  {
   "cell_type": "code",
   "execution_count": 3,
   "id": "362915bf",
   "metadata": {},
   "outputs": [
    {
     "data": {
      "text/plain": [
       "36"
      ]
     },
     "execution_count": 3,
     "metadata": {},
     "output_type": "execute_result"
    }
   ],
   "source": [
    "# Basic multiplication example\n",
    "6*6"
   ]
  },
  {
   "cell_type": "code",
   "execution_count": 4,
   "id": "5f1206c1",
   "metadata": {},
   "outputs": [
    {
     "data": {
      "text/plain": [
       "46656"
      ]
     },
     "execution_count": 4,
     "metadata": {},
     "output_type": "execute_result"
    }
   ],
   "source": [
    "# Basic exponent example\n",
    "6**6"
   ]
  },
  {
   "cell_type": "code",
   "execution_count": 5,
   "id": "778606b6",
   "metadata": {},
   "outputs": [
    {
     "data": {
      "text/plain": [
       "0.5"
      ]
     },
     "execution_count": 5,
     "metadata": {},
     "output_type": "execute_result"
    }
   ],
   "source": [
    "# Basic division example\n",
    "3/6"
   ]
  },
  {
   "cell_type": "markdown",
   "id": "f9e23713",
   "metadata": {},
   "source": [
    "## Basic String Manipulation"
   ]
  },
  {
   "cell_type": "code",
   "execution_count": 6,
   "id": "c954ff91",
   "metadata": {},
   "outputs": [
    {
     "data": {
      "text/plain": [
       "'This is a string!'"
      ]
     },
     "execution_count": 6,
     "metadata": {},
     "output_type": "execute_result"
    }
   ],
   "source": [
    "# Create a string\n",
    "\"This is a string!\""
   ]
  },
  {
   "cell_type": "code",
   "execution_count": 7,
   "id": "d8bc3c1a",
   "metadata": {},
   "outputs": [],
   "source": [
    "# Assign a string to a variable\n",
    "my_str = \"This is a string!\""
   ]
  },
  {
   "cell_type": "code",
   "execution_count": 8,
   "id": "50f89043",
   "metadata": {},
   "outputs": [
    {
     "data": {
      "text/plain": [
       "'T'"
      ]
     },
     "execution_count": 8,
     "metadata": {},
     "output_type": "execute_result"
    }
   ],
   "source": [
    "# String indexing starts at 0 in Python\n",
    "my_str[0]"
   ]
  },
  {
   "cell_type": "code",
   "execution_count": 9,
   "id": "752b283b",
   "metadata": {},
   "outputs": [
    {
     "data": {
      "text/plain": [
       "'string'"
      ]
     },
     "execution_count": 9,
     "metadata": {},
     "output_type": "execute_result"
    }
   ],
   "source": [
    "# Ranges can be selected with a :\n",
    "my_str[10:16]"
   ]
  },
  {
   "cell_type": "code",
   "execution_count": 10,
   "id": "08c1b50b",
   "metadata": {},
   "outputs": [
    {
     "data": {
      "text/plain": [
       "'srn'"
      ]
     },
     "execution_count": 10,
     "metadata": {},
     "output_type": "execute_result"
    }
   ],
   "source": [
    "# A step can also be specified\n",
    "my_str[10:16:2]"
   ]
  },
  {
   "cell_type": "code",
   "execution_count": 11,
   "id": "7ba1a2fd",
   "metadata": {},
   "outputs": [
    {
     "data": {
      "text/plain": [
       "'This is a string! It lives in Python!'"
      ]
     },
     "execution_count": 11,
     "metadata": {},
     "output_type": "execute_result"
    }
   ],
   "source": [
    "# Strings can be concated\n",
    "another_str = ' It lives in Python!'\n",
    "my_str + another_str"
   ]
  },
  {
   "cell_type": "markdown",
   "id": "909add48",
   "metadata": {},
   "source": [
    "## Lists"
   ]
  },
  {
   "cell_type": "code",
   "execution_count": 12,
   "id": "acf44201",
   "metadata": {},
   "outputs": [],
   "source": [
    "# Lists can contain multiple data types (including more lists!)\n",
    "my_list = [1, 'something', 3, [42, 27]]"
   ]
  },
  {
   "cell_type": "code",
   "execution_count": 13,
   "id": "ed477bf9",
   "metadata": {},
   "outputs": [
    {
     "data": {
      "text/plain": [
       "[1, 'something', 3, [42, 27]]"
      ]
     },
     "execution_count": 13,
     "metadata": {},
     "output_type": "execute_result"
    }
   ],
   "source": [
    "# Show the list\n",
    "my_list"
   ]
  },
  {
   "cell_type": "code",
   "execution_count": 14,
   "id": "6988c7a2",
   "metadata": {},
   "outputs": [
    {
     "data": {
      "text/plain": [
       "[42, 27]"
      ]
     },
     "execution_count": 14,
     "metadata": {},
     "output_type": "execute_result"
    }
   ],
   "source": [
    "# Index the list\n",
    "my_list[3]"
   ]
  },
  {
   "cell_type": "code",
   "execution_count": 15,
   "id": "ef686566",
   "metadata": {},
   "outputs": [
    {
     "name": "stdout",
     "output_type": "stream",
     "text": [
      "1\n",
      "something\n",
      "3\n",
      "[42, 27]\n"
     ]
    }
   ],
   "source": [
    "# Iterate over the list\n",
    "for x in my_list:\n",
    "    print(x)"
   ]
  },
  {
   "cell_type": "markdown",
   "id": "106b2cc9",
   "metadata": {},
   "source": [
    "## Dictionaries\n",
    "\n",
    "Consist of key-value pairs"
   ]
  },
  {
   "cell_type": "code",
   "execution_count": 16,
   "id": "7795dbf6",
   "metadata": {},
   "outputs": [],
   "source": [
    "# Create a dictionary\n",
    "my_dict = {\"Value_1\": 1, \"Value_2\":2}"
   ]
  },
  {
   "cell_type": "code",
   "execution_count": 17,
   "id": "824f2272",
   "metadata": {},
   "outputs": [
    {
     "data": {
      "text/plain": [
       "{'Value_1': 1, 'Value_2': 2}"
      ]
     },
     "execution_count": 17,
     "metadata": {},
     "output_type": "execute_result"
    }
   ],
   "source": [
    "# show dictionary\n",
    "my_dict"
   ]
  },
  {
   "cell_type": "code",
   "execution_count": 18,
   "id": "118ce96f",
   "metadata": {},
   "outputs": [
    {
     "data": {
      "text/plain": [
       "1"
      ]
     },
     "execution_count": 18,
     "metadata": {},
     "output_type": "execute_result"
    }
   ],
   "source": [
    "# Access a value using a key\n",
    "my_dict['Value_1']"
   ]
  },
  {
   "cell_type": "code",
   "execution_count": 19,
   "id": "b4ddfd06",
   "metadata": {},
   "outputs": [
    {
     "name": "stdout",
     "output_type": "stream",
     "text": [
      "Value_1\n",
      "1\n",
      "Value_2\n",
      "2\n"
     ]
    }
   ],
   "source": [
    "# Iterate over a dictionary\n",
    "for key, value in my_dict.items():\n",
    "    print(key)\n",
    "    print(value)"
   ]
  },
  {
   "cell_type": "code",
   "execution_count": null,
   "id": "6edc980c",
   "metadata": {},
   "outputs": [],
   "source": []
  }
 ],
 "metadata": {
  "kernelspec": {
   "display_name": "Python 3 (ipykernel)",
   "language": "python",
   "name": "python3"
  },
  "language_info": {
   "codemirror_mode": {
    "name": "ipython",
    "version": 3
   },
   "file_extension": ".py",
   "mimetype": "text/x-python",
   "name": "python",
   "nbconvert_exporter": "python",
   "pygments_lexer": "ipython3",
   "version": "3.9.7"
  }
 },
 "nbformat": 4,
 "nbformat_minor": 5
}
