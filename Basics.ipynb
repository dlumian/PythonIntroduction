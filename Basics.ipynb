{
 "cells": [
  {
   "cell_type": "markdown",
   "id": "3e4f66fd",
   "metadata": {},
   "source": [
    "# Python Introduction"
   ]
  },
  {
   "cell_type": "markdown",
   "id": "ce49c461",
   "metadata": {},
   "source": [
    "Python is a general purpose programming language that is often used in scientific computing. \n",
    "\n",
    "This notebook will introduce basic Python concepts and syntax.\n",
    "\n",
    "To run each cell, put your cursor in it and press `Shift+Enter`.\n",
    "\n",
    "We will start with some basic math examples. \n",
    "\n",
    "Comments can be added to a cell using the `#` symbol.\n",
    "\n",
    "Commenting your code is always good practice."
   ]
  },
  {
   "cell_type": "markdown",
   "id": "bbdf2511",
   "metadata": {},
   "source": [
    "## Basic Math"
   ]
  },
  {
   "cell_type": "code",
   "execution_count": 1,
   "id": "52256c31",
   "metadata": {},
   "outputs": [
    {
     "data": {
      "text/plain": [
       "12"
      ]
     },
     "execution_count": 1,
     "metadata": {},
     "output_type": "execute_result"
    }
   ],
   "source": [
    "# Basic addition example\n",
    "6+6"
   ]
  },
  {
   "cell_type": "code",
   "execution_count": 2,
   "id": "a90e27c6",
   "metadata": {},
   "outputs": [
    {
     "data": {
      "text/plain": [
       "0"
      ]
     },
     "execution_count": 2,
     "metadata": {},
     "output_type": "execute_result"
    }
   ],
   "source": [
    "# Basic subtraction example\n",
    "6-6"
   ]
  },
  {
   "cell_type": "code",
   "execution_count": 3,
   "id": "334e1664",
   "metadata": {},
   "outputs": [
    {
     "data": {
      "text/plain": [
       "36"
      ]
     },
     "execution_count": 3,
     "metadata": {},
     "output_type": "execute_result"
    }
   ],
   "source": [
    "# Basic multiplication example\n",
    "6*6"
   ]
  },
  {
   "cell_type": "code",
   "execution_count": 4,
   "id": "31e6a483",
   "metadata": {},
   "outputs": [
    {
     "data": {
      "text/plain": [
       "46656"
      ]
     },
     "execution_count": 4,
     "metadata": {},
     "output_type": "execute_result"
    }
   ],
   "source": [
    "# Basic exponent example\n",
    "6**6"
   ]
  },
  {
   "cell_type": "code",
   "execution_count": 5,
   "id": "c2d84e93",
   "metadata": {},
   "outputs": [
    {
     "data": {
      "text/plain": [
       "0.5"
      ]
     },
     "execution_count": 5,
     "metadata": {},
     "output_type": "execute_result"
    }
   ],
   "source": [
    "# Basic division example\n",
    "3/6"
   ]
  },
  {
   "cell_type": "markdown",
   "id": "7806af91",
   "metadata": {},
   "source": [
    "## Basic String Manipulation"
   ]
  },
  {
   "cell_type": "code",
   "execution_count": 6,
   "id": "542534d4",
   "metadata": {},
   "outputs": [
    {
     "data": {
      "text/plain": [
       "'This is a string!'"
      ]
     },
     "execution_count": 6,
     "metadata": {},
     "output_type": "execute_result"
    }
   ],
   "source": [
    "# Create a string\n",
    "\"This is a string!\""
   ]
  },
  {
   "cell_type": "code",
   "execution_count": 7,
   "id": "87128b2f",
   "metadata": {},
   "outputs": [],
   "source": [
    "# Assign a string to a variable\n",
    "my_str = \"This is a string!\""
   ]
  },
  {
   "cell_type": "code",
   "execution_count": 8,
   "id": "3d6a1b10",
   "metadata": {},
   "outputs": [
    {
     "data": {
      "text/plain": [
       "'T'"
      ]
     },
     "execution_count": 8,
     "metadata": {},
     "output_type": "execute_result"
    }
   ],
   "source": [
    "# String indexing starts at 0 in Python\n",
    "my_str[0]"
   ]
  },
  {
   "cell_type": "code",
   "execution_count": 9,
   "id": "47119cae",
   "metadata": {},
   "outputs": [
    {
     "data": {
      "text/plain": [
       "'string'"
      ]
     },
     "execution_count": 9,
     "metadata": {},
     "output_type": "execute_result"
    }
   ],
   "source": [
    "# Ranges can be selected with a :\n",
    "my_str[10:16]"
   ]
  },
  {
   "cell_type": "code",
   "execution_count": 10,
   "id": "e12af3cf",
   "metadata": {},
   "outputs": [
    {
     "data": {
      "text/plain": [
       "'srn'"
      ]
     },
     "execution_count": 10,
     "metadata": {},
     "output_type": "execute_result"
    }
   ],
   "source": [
    "# A step can also be specified\n",
    "my_str[10:16:2]"
   ]
  },
  {
   "cell_type": "code",
   "execution_count": 11,
   "id": "0ccd9e28",
   "metadata": {},
   "outputs": [
    {
     "data": {
      "text/plain": [
       "'This is a string! It lives in Python!'"
      ]
     },
     "execution_count": 11,
     "metadata": {},
     "output_type": "execute_result"
    }
   ],
   "source": [
    "# Strings can be concated\n",
    "another_str = ' It lives in Python!'\n",
    "my_str + another_str"
   ]
  },
  {
   "cell_type": "markdown",
   "id": "fba317f7",
   "metadata": {},
   "source": [
    "## Lists"
   ]
  },
  {
   "cell_type": "code",
   "execution_count": 12,
   "id": "0b517480",
   "metadata": {},
   "outputs": [],
   "source": [
    "# Lists can contain multiple data types (including more lists!)\n",
    "my_list = [1, 'something', 3, [42, 27]]"
   ]
  },
  {
   "cell_type": "code",
   "execution_count": 13,
   "id": "2a8dd1fc",
   "metadata": {},
   "outputs": [
    {
     "data": {
      "text/plain": [
       "[1, 'something', 3, [42, 27]]"
      ]
     },
     "execution_count": 13,
     "metadata": {},
     "output_type": "execute_result"
    }
   ],
   "source": [
    "# Show the list\n",
    "my_list"
   ]
  },
  {
   "cell_type": "code",
   "execution_count": 14,
   "id": "43f30107",
   "metadata": {},
   "outputs": [
    {
     "data": {
      "text/plain": [
       "[42, 27]"
      ]
     },
     "execution_count": 14,
     "metadata": {},
     "output_type": "execute_result"
    }
   ],
   "source": [
    "# Index the list\n",
    "my_list[3]"
   ]
  },
  {
   "cell_type": "code",
   "execution_count": 15,
   "id": "b4122ade",
   "metadata": {},
   "outputs": [
    {
     "name": "stdout",
     "output_type": "stream",
     "text": [
      "1\n",
      "something\n",
      "3\n",
      "[42, 27]\n"
     ]
    }
   ],
   "source": [
    "# Iterate over the list\n",
    "for x in my_list:\n",
    "    print(x)"
   ]
  },
  {
   "cell_type": "markdown",
   "id": "82729890",
   "metadata": {},
   "source": [
    "## Dictionaries\n",
    "\n",
    "Consist of key-value pairs"
   ]
  },
  {
   "cell_type": "code",
   "execution_count": 16,
   "id": "df951e90",
   "metadata": {},
   "outputs": [],
   "source": [
    "# Create a dictionary\n",
    "my_dict = {\"Value_1\": 1, \"Value_2\":2}"
   ]
  },
  {
   "cell_type": "code",
   "execution_count": 17,
   "id": "b240e96e",
   "metadata": {},
   "outputs": [
    {
     "data": {
      "text/plain": [
       "{'Value_1': 1, 'Value_2': 2}"
      ]
     },
     "execution_count": 17,
     "metadata": {},
     "output_type": "execute_result"
    }
   ],
   "source": [
    "# show dictionary\n",
    "my_dict"
   ]
  },
  {
   "cell_type": "code",
   "execution_count": 18,
   "id": "24de4672",
   "metadata": {},
   "outputs": [
    {
     "data": {
      "text/plain": [
       "1"
      ]
     },
     "execution_count": 18,
     "metadata": {},
     "output_type": "execute_result"
    }
   ],
   "source": [
    "# Access a value using a key\n",
    "my_dict['Value_1']"
   ]
  },
  {
   "cell_type": "code",
   "execution_count": 19,
   "id": "dd658d49",
   "metadata": {},
   "outputs": [
    {
     "name": "stdout",
     "output_type": "stream",
     "text": [
      "Value_1\n",
      "1\n",
      "Value_2\n",
      "2\n"
     ]
    }
   ],
   "source": [
    "# Iterate over a dictionary\n",
    "for key, value in my_dict.items():\n",
    "    print(key)\n",
    "    print(value)"
   ]
  },
  {
   "cell_type": "markdown",
   "id": "6574e7a4",
   "metadata": {},
   "source": [
    "## Booleans\n",
    "\n",
    "True/False"
   ]
  },
  {
   "cell_type": "code",
   "execution_count": 20,
   "id": "d60753e0",
   "metadata": {},
   "outputs": [],
   "source": [
    "# Assign two vars-one true, one false\n",
    "my_bool = True\n",
    "my_other_bool = False"
   ]
  },
  {
   "cell_type": "code",
   "execution_count": 21,
   "id": "0c5a6216",
   "metadata": {},
   "outputs": [
    {
     "data": {
      "text/plain": [
       "True"
      ]
     },
     "execution_count": 21,
     "metadata": {},
     "output_type": "execute_result"
    }
   ],
   "source": [
    "# Show value\n",
    "my_bool"
   ]
  },
  {
   "cell_type": "code",
   "execution_count": 22,
   "id": "ec3849b8",
   "metadata": {},
   "outputs": [
    {
     "data": {
      "text/plain": [
       "False"
      ]
     },
     "execution_count": 22,
     "metadata": {},
     "output_type": "execute_result"
    }
   ],
   "source": [
    "# Show value\n",
    "my_other_bool"
   ]
  },
  {
   "cell_type": "code",
   "execution_count": 23,
   "id": "cea298ad",
   "metadata": {},
   "outputs": [
    {
     "data": {
      "text/plain": [
       "False"
      ]
     },
     "execution_count": 23,
     "metadata": {},
     "output_type": "execute_result"
    }
   ],
   "source": [
    "# Note bools are special values and not just strings\n",
    "my_bool=='True'"
   ]
  },
  {
   "cell_type": "markdown",
   "id": "d9699466",
   "metadata": {},
   "source": [
    "## Comparisons and evaluation\n",
    "\n",
    "= is used to assign values, == is used to compare values"
   ]
  },
  {
   "cell_type": "code",
   "execution_count": 24,
   "id": "aaaf71a5",
   "metadata": {},
   "outputs": [
    {
     "data": {
      "text/plain": [
       "True"
      ]
     },
     "execution_count": 24,
     "metadata": {},
     "output_type": "execute_result"
    }
   ],
   "source": [
    "# Evaluate if my_bool is equal to True\n",
    "my_bool == True"
   ]
  },
  {
   "cell_type": "code",
   "execution_count": 25,
   "id": "28888033",
   "metadata": {},
   "outputs": [
    {
     "data": {
      "text/plain": [
       "False"
      ]
     },
     "execution_count": 25,
     "metadata": {},
     "output_type": "execute_result"
    }
   ],
   "source": [
    "# Evaluate if my_other_bool is equal to True\n",
    "my_other_bool == True"
   ]
  },
  {
   "cell_type": "code",
   "execution_count": 26,
   "id": "5383dd39",
   "metadata": {},
   "outputs": [
    {
     "data": {
      "text/plain": [
       "True"
      ]
     },
     "execution_count": 26,
     "metadata": {},
     "output_type": "execute_result"
    }
   ],
   "source": [
    "# Check if s in my_str\n",
    "'s' in my_str"
   ]
  },
  {
   "cell_type": "code",
   "execution_count": 27,
   "id": "d8498927",
   "metadata": {},
   "outputs": [
    {
     "data": {
      "text/plain": [
       "False"
      ]
     },
     "execution_count": 27,
     "metadata": {},
     "output_type": "execute_result"
    }
   ],
   "source": [
    "# Check if x in my_str\n",
    "'x' in my_str"
   ]
  },
  {
   "cell_type": "code",
   "execution_count": 28,
   "id": "1f55ec80",
   "metadata": {},
   "outputs": [
    {
     "data": {
      "text/plain": [
       "True"
      ]
     },
     "execution_count": 28,
     "metadata": {},
     "output_type": "execute_result"
    }
   ],
   "source": [
    "# Use in to check if a list contains an element\n",
    "'something' in my_list"
   ]
  },
  {
   "cell_type": "code",
   "execution_count": 29,
   "id": "b5dbc11f",
   "metadata": {},
   "outputs": [
    {
     "data": {
      "text/plain": [
       "False"
      ]
     },
     "execution_count": 29,
     "metadata": {},
     "output_type": "execute_result"
    }
   ],
   "source": [
    "# Use in to check if a list contains an element\n",
    "'something else' in my_list"
   ]
  },
  {
   "cell_type": "code",
   "execution_count": null,
   "id": "7b30e752",
   "metadata": {},
   "outputs": [],
   "source": []
  }
 ],
 "metadata": {
  "kernelspec": {
   "display_name": "Python 3 (ipykernel)",
   "language": "python",
   "name": "python3"
  },
  "language_info": {
   "codemirror_mode": {
    "name": "ipython",
    "version": 3
   },
   "file_extension": ".py",
   "mimetype": "text/x-python",
   "name": "python",
   "nbconvert_exporter": "python",
   "pygments_lexer": "ipython3",
   "version": "3.9.7"
  }
 },
 "nbformat": 4,
 "nbformat_minor": 5
}
