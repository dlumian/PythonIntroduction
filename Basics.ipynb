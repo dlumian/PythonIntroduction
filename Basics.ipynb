{
 "cells": [
  {
   "cell_type": "markdown",
   "id": "ab1a7881",
   "metadata": {},
   "source": [
    "# Python Introduction"
   ]
  },
  {
   "cell_type": "markdown",
   "id": "3df116d6",
   "metadata": {},
   "source": [
    "Python is a general purpose programming language that is often used in scientific computing. \n",
    "\n",
    "This notebook will introduce basic Python concepts and syntax.\n",
    "\n",
    "To run each cell, put your cursor in it and press `Shift+Enter`.\n",
    "\n",
    "We will start with some basic math examples. \n",
    "\n",
    "Comments can be added to a cell using the `#` symbol.\n",
    "\n",
    "Commenting your code is always good practice."
   ]
  },
  {
   "cell_type": "markdown",
   "id": "6f44ad9d",
   "metadata": {},
   "source": [
    "## Basic Math"
   ]
  },
  {
   "cell_type": "code",
   "execution_count": 3,
   "id": "1aa89374",
   "metadata": {},
   "outputs": [
    {
     "data": {
      "text/plain": [
       "12"
      ]
     },
     "execution_count": 3,
     "metadata": {},
     "output_type": "execute_result"
    }
   ],
   "source": [
    "# Basic addition example\n",
    "6+6"
   ]
  },
  {
   "cell_type": "code",
   "execution_count": 8,
   "id": "7b553f63",
   "metadata": {},
   "outputs": [
    {
     "data": {
      "text/plain": [
       "0"
      ]
     },
     "execution_count": 8,
     "metadata": {},
     "output_type": "execute_result"
    }
   ],
   "source": [
    "# Basic subtraction example\n",
    "6-6"
   ]
  },
  {
   "cell_type": "code",
   "execution_count": 5,
   "id": "a8305499",
   "metadata": {},
   "outputs": [
    {
     "data": {
      "text/plain": [
       "36"
      ]
     },
     "execution_count": 5,
     "metadata": {},
     "output_type": "execute_result"
    }
   ],
   "source": [
    "# Basic multiplication example\n",
    "6*6"
   ]
  },
  {
   "cell_type": "code",
   "execution_count": 6,
   "id": "9ecaedbb",
   "metadata": {},
   "outputs": [
    {
     "data": {
      "text/plain": [
       "46656"
      ]
     },
     "execution_count": 6,
     "metadata": {},
     "output_type": "execute_result"
    }
   ],
   "source": [
    "# Basic exponent example\n",
    "6**6"
   ]
  },
  {
   "cell_type": "code",
   "execution_count": 7,
   "id": "d3465d1b",
   "metadata": {},
   "outputs": [
    {
     "data": {
      "text/plain": [
       "0.5"
      ]
     },
     "execution_count": 7,
     "metadata": {},
     "output_type": "execute_result"
    }
   ],
   "source": [
    "# Basic division example\n",
    "3/6"
   ]
  },
  {
   "cell_type": "markdown",
   "id": "280848bf",
   "metadata": {},
   "source": [
    "## Basic String Manipulation"
   ]
  },
  {
   "cell_type": "code",
   "execution_count": 10,
   "id": "a55feae3",
   "metadata": {},
   "outputs": [
    {
     "data": {
      "text/plain": [
       "'This is a string!'"
      ]
     },
     "execution_count": 10,
     "metadata": {},
     "output_type": "execute_result"
    }
   ],
   "source": [
    "# Create a string\n",
    "\"This is a string!\""
   ]
  },
  {
   "cell_type": "code",
   "execution_count": 13,
   "id": "73405aee",
   "metadata": {},
   "outputs": [],
   "source": [
    "# Assign a string to a variable\n",
    "my_str = \"This is a string!\""
   ]
  },
  {
   "cell_type": "code",
   "execution_count": 14,
   "id": "9a6c451d",
   "metadata": {},
   "outputs": [
    {
     "data": {
      "text/plain": [
       "'T'"
      ]
     },
     "execution_count": 14,
     "metadata": {},
     "output_type": "execute_result"
    }
   ],
   "source": [
    "# String indexing starts at 0 in Python\n",
    "my_str[0]"
   ]
  },
  {
   "cell_type": "code",
   "execution_count": 19,
   "id": "78a42798",
   "metadata": {},
   "outputs": [
    {
     "data": {
      "text/plain": [
       "'string'"
      ]
     },
     "execution_count": 19,
     "metadata": {},
     "output_type": "execute_result"
    }
   ],
   "source": [
    "# Ranges can be selected with a :\n",
    "my_str[10:16]"
   ]
  },
  {
   "cell_type": "code",
   "execution_count": 20,
   "id": "cf18d0d8",
   "metadata": {},
   "outputs": [
    {
     "data": {
      "text/plain": [
       "'srn'"
      ]
     },
     "execution_count": 20,
     "metadata": {},
     "output_type": "execute_result"
    }
   ],
   "source": [
    "# A step can also be specified\n",
    "my_str[10:16:2]"
   ]
  },
  {
   "cell_type": "code",
   "execution_count": 22,
   "id": "00d60f24",
   "metadata": {},
   "outputs": [
    {
     "data": {
      "text/plain": [
       "'This is a string! It lives in Python!'"
      ]
     },
     "execution_count": 22,
     "metadata": {},
     "output_type": "execute_result"
    }
   ],
   "source": [
    "# Strings can be concated\n",
    "another_str = ' It lives in Python!'\n",
    "my_str + another_str"
   ]
  },
  {
   "cell_type": "code",
   "execution_count": null,
   "id": "7472c672",
   "metadata": {},
   "outputs": [],
   "source": [
    " "
   ]
  }
 ],
 "metadata": {
  "kernelspec": {
   "display_name": "Python 3 (ipykernel)",
   "language": "python",
   "name": "python3"
  },
  "language_info": {
   "codemirror_mode": {
    "name": "ipython",
    "version": 3
   },
   "file_extension": ".py",
   "mimetype": "text/x-python",
   "name": "python",
   "nbconvert_exporter": "python",
   "pygments_lexer": "ipython3",
   "version": "3.9.7"
  }
 },
 "nbformat": 4,
 "nbformat_minor": 5
}
